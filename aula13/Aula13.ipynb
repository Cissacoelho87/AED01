{
 "cells": [
  {
   "cell_type": "markdown",
   "id": "f2780615-3eac-4250-a1ca-fd3d1e9fef27",
   "metadata": {},
   "source": [
    "Exercício 1: \n",
    "Crie um programa que recebe uma frase de entrada e a normaliza. A normalização deve transformar a frase para minúsculas, remover os espaços em excesso e substituir os espaços restantes por underscores (_)."
   ]
  },
  {
   "cell_type": "code",
   "execution_count": 6,
   "id": "5c0db86e-3391-4a14-b9d2-506b2f6d74e8",
   "metadata": {},
   "outputs": [
    {
     "name": "stdin",
     "output_type": "stream",
     "text": [
      " Que dia mega bom!\n"
     ]
    },
    {
     "name": "stdout",
     "output_type": "stream",
     "text": [
      "que_dia_mega_bom!\n"
     ]
    }
   ],
   "source": [
    "frase = input().lower().strip()\n",
    "frase = \"_\".join(frase.split())\n",
    "print(frase)"
   ]
  },
  {
   "cell_type": "markdown",
   "id": "24ff7404-4b77-4b36-a52e-b614b2cd48fd",
   "metadata": {},
   "source": [
    "Exercício 2: \n",
    "Dada uma lista pré-definida de vendas diárias, remova todas as vendas menores que R$ 100,00 e calcule a média das vendas restantes. "
   ]
  },
  {
   "cell_type": "code",
   "execution_count": 2,
   "id": "f6f1223e-0ebd-40cf-b2f1-a8fa5769e828",
   "metadata": {},
   "outputs": [
    {
     "name": "stdout",
     "output_type": "stream",
     "text": [
      "Média das vendas acima de R$100,00: 166.67\n"
     ]
    }
   ],
   "source": [
    "def calcular_media_boas_vendas(vendas):\n",
    "    boas_vendas = [v for v in vendas if v >= 100]\n",
    "\n",
    "    if len(boas_vendas) == 0:\n",
    "        return 0\n",
    "\n",
    "    media = sum(boas_vendas) / len(boas_vendas)\n",
    "    return media\n",
    "\n",
    "vendas_diarias = [150.0, 75.5, 230.0, 90.0, 120.0, 99.9]\n",
    "\n",
    "media = calcular_media_boas_vendas(vendas_diarias)\n",
    "print(\"Média das vendas acima de R$100,00:\", round(media, 2))"
   ]
  },
  {
   "cell_type": "markdown",
   "id": "b55fa41b-1b59-4e8f-b78a-a4a87a3b907d",
   "metadata": {},
   "source": [
    "Exercício 3: \n",
    "Crie um programa que recebe três coordenadas (x, y) como tuplas e calcula a distância média dos \n",
    "pontos a partir da origem (0, 0). Use a fórmula da distância Euclidiana. "
   ]
  },
  {
   "cell_type": "code",
   "execution_count": 4,
   "id": "f1e896f0-e48c-468b-94e5-ffffbf2602fd",
   "metadata": {},
   "outputs": [
    {
     "name": "stdin",
     "output_type": "stream",
     "text": [
      "Digite x1:  10\n",
      "Digite y1:  20\n",
      "Digite x2:  30\n",
      "Digite y2:  40\n",
      "Digite x3:  50\n",
      "Digite y3:  60\n"
     ]
    },
    {
     "name": "stdout",
     "output_type": "stream",
     "text": [
      "Distância média: 50.2\n"
     ]
    }
   ],
   "source": [
    "import math\n",
    "x1 = int(input(\"Digite x1: \"))\n",
    "y1 = int(input(\"Digite y1: \"))\n",
    "x2 = int(input(\"Digite x2: \"))\n",
    "y2 = int(input(\"Digite y2: \"))\n",
    "x3 = int(input(\"Digite x3: \"))\n",
    "y3 = int(input(\"Digite y3: \"))\n",
    "d1 = math.sqrt(x1**2 + y1**2)\n",
    "d2 = math.sqrt(x2**2 + y2**2)\n",
    "d3 = math.sqrt(x3**2 + y3**2)\n",
    "media = (d1 + d2 + d3) / 3\n",
    "print(f\"Distância média: {media:.1f}\")"
   ]
  },
  {
   "cell_type": "markdown",
   "id": "6a2027e4-1463-4cdc-8e92-7950e7d279ad",
   "metadata": {},
   "source": [
    "Exercício 4: \n",
    "Crie um programa que recebe uma frase de entrada e conta a frequência de cada palavra. O \n",
    "programa deve mostrar a contagem de cada palavra ao final. "
   ]
  },
  {
   "cell_type": "code",
   "execution_count": 5,
   "id": "511b3596-f691-49d9-a623-7bd9292ddaf5",
   "metadata": {},
   "outputs": [
    {
     "name": "stdin",
     "output_type": "stream",
     "text": [
      "Digite uma frase:  Que dia bom!\n"
     ]
    },
    {
     "name": "stdout",
     "output_type": "stream",
     "text": [
      "Frequência de palavras: {'que': 1, 'dia': 1, 'bom!': 1}\n"
     ]
    }
   ],
   "source": [
    "frase = input(\"Digite uma frase: \").lower()\n",
    "palavras = frase.split()\n",
    "frequencia = {}\n",
    "for palavra in palavras:\n",
    "    if palavra in frequencia:\n",
    "        frequencia[palavra] += 1\n",
    "    else:\n",
    "        frequencia[palavra] = 1\n",
    "print(f\"Frequência de palavras: {frequencia}\")"
   ]
  }
 ],
 "metadata": {
  "kernelspec": {
   "display_name": "Python [conda env:base] *",
   "language": "python",
   "name": "conda-base-py"
  },
  "language_info": {
   "codemirror_mode": {
    "name": "ipython",
    "version": 3
   },
   "file_extension": ".py",
   "mimetype": "text/x-python",
   "name": "python",
   "nbconvert_exporter": "python",
   "pygments_lexer": "ipython3",
   "version": "3.12.7"
  }
 },
 "nbformat": 4,
 "nbformat_minor": 5
}
