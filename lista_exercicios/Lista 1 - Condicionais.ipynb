{
 "cells": [
  {
   "cell_type": "code",
   "execution_count": 8,
   "id": "2ae1dab0-df8b-4c17-8af7-c6a39163c8c1",
   "metadata": {},
   "outputs": [
    {
     "name": "stdin",
     "output_type": "stream",
     "text": [
      "Digite um número:  8\n"
     ]
    },
    {
     "name": "stdout",
     "output_type": "stream",
     "text": [
      "O número é par\n",
      "O número é positivo\n"
     ]
    }
   ],
   "source": [
    "# 0 - Faça um algoritmo para ler um número e mostrar se ele é par ou impar, positivo ou negativo.\n",
    "\n",
    "numero = int(input(\"Digite um número: \"))\n",
    "if numero % 2 == 0:\n",
    "    print(\"O número é par\")\n",
    "else:\n",
    "    print(\"O número é ímpar\")\n",
    "if numero > 0:\n",
    "    print(\"O número é positivo\")\n",
    "elif numero < 0:\n",
    "    print(\"O número é negativo\")\n",
    "else:\n",
    "    print(\"O número é zero\")"
   ]
  },
  {
   "cell_type": "code",
   "execution_count": 79,
   "id": "91af57af-ba92-4615-9f46-1185a3f9117f",
   "metadata": {},
   "outputs": [
    {
     "name": "stdin",
     "output_type": "stream",
     "text": [
      "Digite um número:  50\n",
      "Digite um número:  70\n"
     ]
    },
    {
     "name": "stdout",
     "output_type": "stream",
     "text": [
      "70 é maior que 50\n"
     ]
    }
   ],
   "source": [
    "# 1 - Faça um Programa que peça dois números e imprima o maior deles.\n",
    "\n",
    "num1 = int(input(\"Digite um número: \"))\n",
    "num2 = int(input(\"Digite um número: \"))\n",
    "if num1 > num2:\n",
    "    print(num1, \"é maior que\", num2)\n",
    "elif num1 < num2:\n",
    "    print(num2, \"é maior que\", num1)\n",
    "else:\n",
    "    print(\"Os números são iguais: \")"
   ]
  },
  {
   "cell_type": "code",
   "execution_count": 21,
   "id": "34939f6d-b4b2-4dd8-a3c1-1cadf49bd074",
   "metadata": {},
   "outputs": [
    {
     "name": "stdin",
     "output_type": "stream",
     "text": [
      "Digite um valor:  -5\n"
     ]
    },
    {
     "name": "stdout",
     "output_type": "stream",
     "text": [
      "O valor é negativo: \n"
     ]
    }
   ],
   "source": [
    "# 2 - Faça um Programa que peça um valor e mostre na tela se o valor é positivo ou negativo.\n",
    "\n",
    "valor = float(input(\"Digite um valor: \"))\n",
    "if valor > 0:\n",
    "    print(\"O valor é positivo: \")\n",
    "elif valor < 0:\n",
    "    print(\"O valor é negativo: \")\n",
    "else:\n",
    "    print(\"O valor é zero\")"
   ]
  },
  {
   "cell_type": "code",
   "execution_count": 36,
   "id": "a3fbc6a7-99b3-4b21-a7e7-23456f2c71a0",
   "metadata": {},
   "outputs": [
    {
     "name": "stdin",
     "output_type": "stream",
     "text": [
      "Digite uma letra:  c\n"
     ]
    },
    {
     "name": "stdout",
     "output_type": "stream",
     "text": [
      "A letra é uma consoante: \n"
     ]
    }
   ],
   "source": [
    "# 3 - Faça um Programa que verifique se uma letra digitada é vogal ou consoante.\n",
    "\n",
    "letra = input(\"Digite uma letra: \")\n",
    "if letra in 'aeiou':\n",
    "    print(\"A letra é uma vogal: \")\n",
    "elif letra.isalpha:\n",
    "    print(\"A letra é uma consoante: \")\n",
    "else:\n",
    "    print(\"Não é uma letra do alfabeto\")"
   ]
  },
  {
   "cell_type": "code",
   "execution_count": 10,
   "id": "37b29dbb-f2f3-4bb7-890d-787e34596864",
   "metadata": {},
   "outputs": [
    {
     "name": "stdin",
     "output_type": "stream",
     "text": [
      "Digite a nota1:  7\n",
      "Digite a nota2:  8\n"
     ]
    },
    {
     "name": "stdout",
     "output_type": "stream",
     "text": [
      "Aprovado!\n"
     ]
    }
   ],
   "source": [
    "# 4 - Faça um programa para a leitura de duas notas parciais de um aluno. O programa deve calcular a média alcançada por aluno e apresentar:\n",
    "# a. A mensagem \"Aprovado\", se a média alcançada for maior ou igual a sete; \n",
    "# b. A mensagem \"Reprovado\", se a média for menor do que sete; \n",
    "# c. A mensagem \"Aprovado com Distinção\", se a média for igual a dez. \n",
    "\n",
    "nota1 = float(input(\"Digite a nota1: \"))\n",
    "nota2 = float(input(\"Digite a nota2: \"))\n",
    "media = (nota1 + nota2) / 2\n",
    "if media == 10:\n",
    "    print(\"Aprovado com distinção!\")\n",
    "elif media >= 7:\n",
    "    print(\"Aprovado!\")\n",
    "else:\n",
    "    print(\"Reprovado!\")"
   ]
  },
  {
   "cell_type": "code",
   "execution_count": 22,
   "id": "d002ff3d-9494-483e-9f88-8a405204a7da",
   "metadata": {},
   "outputs": [
    {
     "name": "stdin",
     "output_type": "stream",
     "text": [
      "Digite o valor do produto1:  10.0\n",
      "Digite o valor do produto2:  20.0\n",
      "Digite o valor do produto3:  30.0\n"
     ]
    },
    {
     "name": "stdout",
     "output_type": "stream",
     "text": [
      "Compre o produto 1!\n"
     ]
    }
   ],
   "source": [
    "# 5. Faça um programa que pergunte o preço de três produtos e informe qual produto você deve comprar, sabendo que a decisão é sempre pelo mais barato.\n",
    "\n",
    "prod1 = float(input(\"Digite o valor do produto1: \"))\n",
    "prod2 = float(input(\"Digite o valor do produto2: \"))\n",
    "prod3 = float(input(\"Digite o valor do produto3: \"))\n",
    "\n",
    "mais_barato = min(prod1, prod2, prod3)\n",
    "\n",
    "if mais_barato == prod1:\n",
    "    print(\"Compre o produto 1!\")\n",
    "elif mais_barato == prod2:\n",
    "    print(\"Compre o produto 2!\")\n",
    "else:\n",
    "    print(\"Compre o produto 3!\")"
   ]
  },
  {
   "cell_type": "code",
   "execution_count": 6,
   "id": "f38d7766-e05b-4567-9557-468ec36d3239",
   "metadata": {},
   "outputs": [
    {
     "name": "stdin",
     "output_type": "stream",
     "text": [
      "Digite o número 1:  100\n",
      "Digite o número 2:  49\n",
      "Digite o número 3:  80\n"
     ]
    },
    {
     "name": "stdout",
     "output_type": "stream",
     "text": [
      "Números em ordem descrescente: \n",
      "100\n",
      "80\n",
      "49\n"
     ]
    }
   ],
   "source": [
    "# Faça um Programa que leia três números e mostre-os em ordem decrescente. \n",
    "\n",
    "num1 = int(input(\"Digite o número 1: \"))\n",
    "num2 = int(input(\"Digite o número 2: \"))\n",
    "num3 = int(input(\"Digite o número 3: \"))\n",
    "\n",
    "numeros = [num1, num2, num3]\n",
    "numeros.sort(reverse=True)\n",
    "\n",
    "print(\"Números em ordem descrescente: \")\n",
    "for num in numeros:\n",
    "    print(num)"
   ]
  },
  {
   "cell_type": "code",
   "execution_count": 80,
   "id": "dcea4e40-ba6e-4600-89e4-dab1669c8c39",
   "metadata": {},
   "outputs": [
    {
     "name": "stdin",
     "output_type": "stream",
     "text": [
      "Digite o turno (M-Matutino, V-Vespertino, N-Noturno):  M\n"
     ]
    },
    {
     "name": "stdout",
     "output_type": "stream",
     "text": [
      "Bom dia!\n"
     ]
    }
   ],
   "source": [
    "# 7. Faça um Programa que pergunte em que turno você estuda. \n",
    "# Peça para digitar M-matutino ou V-Vespertino ou N- Noturno. \n",
    "# Imprima a mensagem \"Bom Dia!\", \"Boa Tarde!\" ou \"Boa Noite!\" ou \"Valor Inválido!\", conforme o caso. \n",
    "\n",
    "turno = input(\"Digite o turno (M-Matutino, V-Vespertino, N-Noturno): \").upper()\n",
    "if turno == \"M\":\n",
    "    print(\"Bom dia!\")\n",
    "elif turno == \"V\":\n",
    "    print(\"Boa tarde!\")\n",
    "elif turno == \"N\":\n",
    "    print(\"Boa noite!\")\n",
    "else:\n",
    "    print(\"Valor Inválido!\")            "
   ]
  },
  {
   "cell_type": "code",
   "execution_count": 13,
   "id": "b30a2d34-cbf7-4a4b-b2be-79b4fba38fb8",
   "metadata": {},
   "outputs": [
    {
     "name": "stdin",
     "output_type": "stream",
     "text": [
      "Digite o salário: R$  400\n"
     ]
    },
    {
     "name": "stdout",
     "output_type": "stream",
     "text": [
      "Aumento de 20%\n"
     ]
    }
   ],
   "source": [
    "# 8. As Organizações Tabajara resolveram dar um aumento de salário aos seus colaboradores e lhe contraram para desenvolver o programa que calculará os reajustes. \n",
    "# a. Faça um programa que recebe o salário de um colaborador e o reajuste segundo o seguinte critério, baseado no salário atual:  \n",
    "\n",
    "salario_atual = float(input(\"Digite o salário: R$ \"))\n",
    "if salario == 280:\n",
    "    print(\"Aumento de 20%\")\n",
    "else:\n",
    "    print(\"Valor invalido!\")"
   ]
  },
  {
   "cell_type": "code",
   "execution_count": 1,
   "id": "1cdebcd4-86f4-4757-9dc9-7eb342e1e761",
   "metadata": {},
   "outputs": [
    {
     "name": "stdin",
     "output_type": "stream",
     "text": [
      "Digite o salário:  100\n"
     ]
    },
    {
     "name": "stdout",
     "output_type": "stream",
     "text": [
      "O novo salário é: R$120.00\n"
     ]
    }
   ],
   "source": [
    "# b. salários até R$ 280,00 (incluindo) : aumento de 20% \n",
    "\n",
    "salario_atual = float(input(\"Digite o salário: \"))\n",
    "if salario_atual <= 280:\n",
    "    reajuste = 0.20  \n",
    "salario_novo = salario_atual * (1 + reajuste)\n",
    "print(f\"O novo salário é: R${salario_novo:.2f}\")"
   ]
  },
  {
   "cell_type": "code",
   "execution_count": 5,
   "id": "2c128607-d22e-4f44-a9c7-f8063a939988",
   "metadata": {},
   "outputs": [
    {
     "name": "stdin",
     "output_type": "stream",
     "text": [
      "Digite o salário:  290\n"
     ]
    },
    {
     "name": "stdout",
     "output_type": "stream",
     "text": [
      "O novo salário é: R$333.50\n"
     ]
    }
   ],
   "source": [
    "# c. salários entre R$ 280,00 e R$ 700,00 : aumento de 15% \n",
    "\n",
    "salario_atual = float(input(\"Digite o salário: \"))\n",
    "reajuste = 0  \n",
    "if 280 <= salario_atual <= 700:\n",
    "    reajuste = 0.15\n",
    "else:\n",
    "    print(\"A faixa salarial não está contemplada no reajuste! \")\n",
    "if reajuste > 0:\n",
    "    salario_novo = salario_atual * (1 + reajuste)\n",
    "    print(f\"O novo salário é: R${salario_novo:.2f}\")"
   ]
  },
  {
   "cell_type": "code",
   "execution_count": 23,
   "id": "c5e10e5a-6c32-45bf-8eaa-d8993ddfd329",
   "metadata": {},
   "outputs": [
    {
     "name": "stdin",
     "output_type": "stream",
     "text": [
      "Digite o salário:  1493\n"
     ]
    },
    {
     "name": "stdout",
     "output_type": "stream",
     "text": [
      "O novo salário é: R$1642.30\n"
     ]
    }
   ],
   "source": [
    "# d. salários entre R$ 700,00 e R$ 1500,00 : aumento de 10% \n",
    "\n",
    "salario_atual = float(input(\"Digite o salário: \"))\n",
    "reajuste = 0\n",
    "if 700 <= salario_atual <= 1500:\n",
    "    reajuste = 0.10\n",
    "else:\n",
    "    print(\"A faixa salarial não está contemplada no reajuste! \")\n",
    "if reajuste > 0:\n",
    "    salario_novo = salario_atual * (1 + reajuste)\n",
    "    print(f\"O novo salário é: R${salario_novo:.2f}\")"
   ]
  },
  {
   "cell_type": "code",
   "execution_count": 30,
   "id": "beb79c32-3bb8-4661-9a8e-00551cfcee91",
   "metadata": {},
   "outputs": [
    {
     "name": "stdin",
     "output_type": "stream",
     "text": [
      "Digite o salário:  1510\n"
     ]
    },
    {
     "name": "stdout",
     "output_type": "stream",
     "text": [
      "O novo salário é: R$2265.00\n"
     ]
    }
   ],
   "source": [
    "# e. salários de R$ 1500,00 em diante : aumento de 5% Após o aumento ser realizado, informe na tela:\n",
    "\n",
    "salario_atual = float(input(\"Digite o salário: \"))\n",
    "rajuste = 0\n",
    "if salario_atual >= 1500:\n",
    "    reajuste = 0.5\n",
    "else:\n",
    "    print(\"A faixa salarial não está contemplada no reajuste! \")\n",
    "if reajuste > 0:\n",
    "    salario_novo = salario_atual * (1 + reajuste)\n",
    "    print(f\"O novo salário é: R${salario_novo:.2f}\")"
   ]
  },
  {
   "cell_type": "code",
   "execution_count": 49,
   "id": "288f6c9a-3045-4425-b54b-71e0488afe44",
   "metadata": {},
   "outputs": [
    {
     "name": "stdin",
     "output_type": "stream",
     "text": [
      "Digite o salário atual:  1510\n"
     ]
    },
    {
     "name": "stdout",
     "output_type": "stream",
     "text": [
      "O salário antigo era: R$1510.00\n",
      "O salário novo é: R$1585.50\n"
     ]
    }
   ],
   "source": [
    "# f. o salário antes do reajuste:\n",
    "\n",
    "salario_atual = float(input(\"Digite o salário atual: \"))\n",
    "salario_antigo = salario_atual\n",
    "reajuste = 0\n",
    "\n",
    "if salario_atual >= 1500:\n",
    "    reajuste = 0.05\n",
    "    salario_novo = salario_antigo * (1 + reajuste)\n",
    "    print(f\"O salário antigo era: R${salario_antigo:.2f}\")\n",
    "    print(f\"O salário novo é: R${salario_novo:.2f}\")\n",
    "else:\n",
    "    print(\"A faixa salarial não está contemplada no reajuste! \")"
   ]
  },
  {
   "cell_type": "raw",
   "id": "83c813ef-2feb-41a3-9af5-b0825da8f60f",
   "metadata": {},
   "source": [
    "# g. o percentual de aumento aplicado:\n",
    "\n",
    "salario_atual = int(input(\"Digite o salário atual: \"))\n",
    "rajuste = 0\n",
    "\n",
    "if salario_atual >= 1500:\n",
    "    reajuste = 0.05\n",
    "    salario_novo = salario_antigo * (1 + reajuste)\n",
    "    print(f\"O percentual de aumento foi de: {reajuste:.0%}\")\n",
    "else:\n",
    "    print(\"A faixa salarial não recebeu aumento! \")"
   ]
  },
  {
   "cell_type": "code",
   "execution_count": 66,
   "id": "82d7708b-1d32-4d70-9634-d78a093f774c",
   "metadata": {},
   "outputs": [
    {
     "name": "stdin",
     "output_type": "stream",
     "text": [
      "Digite o salário atual:  1500\n"
     ]
    },
    {
     "name": "stdout",
     "output_type": "stream",
     "text": [
      "O valor do aumento foi de: 75.00\n",
      "O salário movo é: R$1575.00\n"
     ]
    }
   ],
   "source": [
    "# h. o valor do aumento:\n",
    "\n",
    "salario_atual = int(input(\"Digite o salário atual: \"))\n",
    "reajuste = 0\n",
    "\n",
    "if salario_atual >= 1500:\n",
    "    reajuste = 0.05\n",
    "    salario_novo = salario_atual *  (1 + reajuste)\n",
    "    valor_aumento = salario_novo - salario_atual \n",
    "    print(f\"O valor do aumento foi de: {valor_aumento:.2f}\")\n",
    "else:\n",
    "    print(\"A faixa salarial não recebeu aumento! \")"
   ]
  },
  {
   "cell_type": "code",
   "execution_count": 72,
   "id": "2d1317b4-587c-4ac9-b4c5-130196318033",
   "metadata": {},
   "outputs": [
    {
     "name": "stdin",
     "output_type": "stream",
     "text": [
      "Digite o salário atual:  3000\n"
     ]
    },
    {
     "name": "stdout",
     "output_type": "stream",
     "text": [
      "O salário novo é: R$3150.00\n"
     ]
    }
   ],
   "source": [
    "# i. o novo salário, após o aumento. \n",
    "\n",
    "salario_atual = int(input(\"Digite o salário atual: \"))\n",
    "reajuste = 0\n",
    "\n",
    "if salario_atual >= 1500:\n",
    "    reajuste = 0.05\n",
    "    salario_novo = salario_atual * (1 + reajuste)\n",
    "    valor_aumento = salario_novo - salario_atual\n",
    "    print(f\"O salário novo é: R${salario_novo:.2f}\")\n",
    "else:\n",
    "    print(\"A faixa salarial não recebeu aumento! \")"
   ]
  },
  {
   "cell_type": "code",
   "execution_count": null,
   "id": "7859e762-4acd-4931-ae6d-97409be81083",
   "metadata": {},
   "outputs": [],
   "source": [
    "# 9. Faça um programa para o cálculo de uma folha de pagamento, sabendo que os descontos são do Imposto de Renda, que depende do salário bruto (conforme tabela abaixo) e 3% para o Sindicato e que o FGTS corresponde a 11% do Salário Bruto, mas não é descontado (é a empresa que deposita).\n",
    "# O Salário Líquido corresponde ao Salário Bruto menos os descontos. \n",
    "# O programa deverá pedir ao usuário o valor da sua hora e a quantidade de horas trabalhadas no mês.\n",
    "# a. Desconto do IR: \n",
    "# b. Salário Bruto até 900 (inclusive) - isento \n",
    "# c. Salário Bruto até 1500 (inclusive) - desconto de 5% \n",
    "# d. Salário Bruto até 2500 (inclusive) - desconto de 10% \n",
    "# e. Salário Bruto acima de 2500 - desconto de 20% Imprima na tela as informações, dispostas conforme o exemplo abaixo. \n",
    "# No exemplo o valor da hora é 5 e a quantidade de hora é 220.\n",
    "# f. Salário Bruto: (5 * 220)        : R$ 1100,00 \n",
    "# g. (-) IR (5%)                     : R$   55,00   \n",
    "# h. (-) INSS ( 10%)                 : R$  110,00 \n",
    "# i. FGTS (11%)                      : R$  121,00 \n",
    "# j. Total de descontos              : R$  165,00 \n",
    "# Salário Liquido                 : R$  935,00 \n",
    "\n",
    "valor_hora = float(input(\"Digite o valor da hora trabalhada: \"))\n",
    "qtde_horas = float(input(\"Digite a quantidade de horas trabalhadas no mês: \"))\n"
   ]
  },
  {
   "cell_type": "code",
   "execution_count": 5,
   "id": "6f1f08a6-942a-48c8-bc89-567026d581e7",
   "metadata": {},
   "outputs": [
    {
     "name": "stdin",
     "output_type": "stream",
     "text": [
      "Digite a primeita nota:  5.3\n",
      "Digite a segunda nota:  8\n"
     ]
    },
    {
     "name": "stdout",
     "output_type": "stream",
     "text": [
      "Média: 6.65\n",
      "Conceito C\n"
     ]
    }
   ],
   "source": [
    "# 10. Faça um programa que lê as duas notas parciais obtidas por um aluno numa disciplina ao longo de um semestre, e calcule a sua média. \n",
    "# A atribuição de conceitos obedece à tabela abaixo: \n",
    "# Média de Aproveitamento  Conceito \n",
    "# a.   Entre 9.0 e 10.0        A \n",
    "# b.   Entre 7.5 e 9.0         B \n",
    "# c.   Entre 6.0 e 7.5         C \n",
    "# d.   Entre 4.0 e 6.0         D \n",
    "# e.   Entre 4.0 e zero        E\n",
    "\n",
    "nota1 = float(input(\"Digite a primeita nota: \"))\n",
    "nota2 = float(input(\"Digite a segunda nota: \"))\n",
    "media = (nota1 + nota2) / 2\n",
    "print(f\"Média: {media:.2f}\")\n",
    "\n",
    "if media >= 9 and media <= 10:\n",
    "    print(\"Conceito A\")\n",
    "elif media >= 7.5 and media < 9:\n",
    "    print(\"Conceito B\")\n",
    "elif media >= 6 and media < 7.5:\n",
    "    print(\"Conceito C\")\n",
    "elif media >= 4 and media < 6:\n",
    "    print(\"Conceito D\")\n",
    "elif media >= 0 and media < 4:\n",
    "    print(\"Conceito E\")\n",
    "else:\n",
    "    print(\"Valor inválido! \")"
   ]
  },
  {
   "cell_type": "code",
   "execution_count": null,
   "id": "6b86007f-223c-468f-9881-d939c5871e1c",
   "metadata": {},
   "outputs": [],
   "source": []
  }
 ],
 "metadata": {
  "kernelspec": {
   "display_name": "Python [conda env:base] *",
   "language": "python",
   "name": "conda-base-py"
  },
  "language_info": {
   "codemirror_mode": {
    "name": "ipython",
    "version": 3
   },
   "file_extension": ".py",
   "mimetype": "text/x-python",
   "name": "python",
   "nbconvert_exporter": "python",
   "pygments_lexer": "ipython3",
   "version": "3.12.7"
  }
 },
 "nbformat": 4,
 "nbformat_minor": 5
}
