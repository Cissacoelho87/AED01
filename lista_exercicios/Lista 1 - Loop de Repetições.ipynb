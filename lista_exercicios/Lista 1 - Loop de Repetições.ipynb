{
 "cells": [
  {
   "cell_type": "code",
   "execution_count": 16,
   "id": "8053f846-36b0-4d95-85b4-561b24676e15",
   "metadata": {},
   "outputs": [
    {
     "name": "stdin",
     "output_type": "stream",
     "text": [
      "Digite uma nota (0 a 10):  15\n"
     ]
    },
    {
     "name": "stdout",
     "output_type": "stream",
     "text": [
      "Nota inválida! Por favor, digite uma nota de 0 a 10.\n"
     ]
    },
    {
     "name": "stdin",
     "output_type": "stream",
     "text": [
      "Digite uma nota (0 a 10):  20\n"
     ]
    },
    {
     "name": "stdout",
     "output_type": "stream",
     "text": [
      "Nota inválida! Por favor, digite uma nota de 0 a 10.\n"
     ]
    },
    {
     "name": "stdin",
     "output_type": "stream",
     "text": [
      "Digite uma nota (0 a 10):  10\n"
     ]
    },
    {
     "name": "stdout",
     "output_type": "stream",
     "text": [
      "Nota Válida!\n"
     ]
    }
   ],
   "source": [
    "# 1. Faça um programa que peça uma nota, entre zero e dez. Mostre uma mensagem caso o valor seja inválido e continue pedindo até que o usuário informe um valor válido.\n",
    "\n",
    "nota = int(input(\"Digite uma nota (0 a 10): \"))\n",
    "while nota < 0 or nota > 10:\n",
    "  print(\"Nota inválida! Por favor, digite uma nota de 0 a 10.\")\n",
    "  nota = int(input(\"Digite uma nota (0 a 10): \"))\n",
    "  \n",
    "print(\"Nota Válida!\")"
   ]
  },
  {
   "cell_type": "code",
   "execution_count": 21,
   "id": "36ba7cea-0b18-4d32-b6a8-6bae9bcd2668",
   "metadata": {},
   "outputs": [
    {
     "name": "stdin",
     "output_type": "stream",
     "text": [
      "Digite o seu nome:  Cicera\n",
      "Digite sua senha:  Cicera\n"
     ]
    },
    {
     "name": "stdout",
     "output_type": "stream",
     "text": [
      "Senha inválida! Por favor, digite uma senha nova.\n"
     ]
    },
    {
     "name": "stdin",
     "output_type": "stream",
     "text": [
      "Digite sua senha:  Maria\n"
     ]
    },
    {
     "name": "stdout",
     "output_type": "stream",
     "text": [
      "Acesso liberado!\n"
     ]
    }
   ],
   "source": [
    "# 2. Faça um programa que leia um nome de usuário e a sua senha e não aceite a senha igual ao nome do usuário, mostrando uma mensagem de erro e voltando a pedir as informações. \n",
    "\n",
    "nome = input(\"Digite o seu nome: \")\n",
    "senha = input(\"Digite sua senha: \")\n",
    "while senha == nome:\n",
    "    print(\"Senha inválida! Por favor, digite uma senha nova.\")\n",
    "    senha = input(\"Digite sua senha: \")\n",
    "\n",
    "print(\"Acesso liberado!\")"
   ]
  },
  {
   "cell_type": "code",
   "execution_count": 2,
   "id": "b5a175d3-fa7f-4abf-a563-a85541b71064",
   "metadata": {},
   "outputs": [
    {
     "name": "stdin",
     "output_type": "stream",
     "text": [
      "Digite o seu nome:  Ci\n"
     ]
    },
    {
     "name": "stdout",
     "output_type": "stream",
     "text": [
      "Nome inválido! Por favor, digite um nome válido.\n"
     ]
    },
    {
     "name": "stdin",
     "output_type": "stream",
     "text": [
      "Digite o seu nome:  Cicera\n"
     ]
    },
    {
     "name": "stdout",
     "output_type": "stream",
     "text": [
      "Nome válido!\n"
     ]
    }
   ],
   "source": [
    "# 3. Faça um programa que leia e valide as seguintes informações: \n",
    "# a. Nome: maior que 3 caracteres; \n",
    "# b. Idade: entre 0 e 150; \n",
    "# c. Salário: maior que zero; \n",
    "# d. Sexo: 'f' ou 'm'; \n",
    "# e. Estado Civil: 's', 'c', 'v', 'd'\n",
    "\n",
    "nome = input(\"Digite o seu nome: \")\n",
    "while len(nome) <= 3:\n",
    "    print(\"Nome inválido! Por favor, digite um nome válido.\")\n",
    "    nome = input(\"Digite o seu nome: \")\n",
    "\n",
    "print(\"Nome válido!\")"
   ]
  },
  {
   "cell_type": "code",
   "execution_count": 25,
   "id": "76abec53-0f02-4c5b-b12c-10f30d76285c",
   "metadata": {},
   "outputs": [
    {
     "name": "stdout",
     "output_type": "stream",
     "text": [
      "Serão necessários 63 anos para que a população do país A últrapasse ou iguale a população do país B.\n"
     ]
    }
   ],
   "source": [
    "# 4. Supondo que a população de um país A seja da ordem de 80000 habitantes com uma taxa anual de crescimento de 3% e que a população de B seja 200000 habitantes com uma taxa de crescimento de 1.5%. \n",
    "# Faça um programa que calcule e escreva o número de anos necessários para que a população do país A ultrapasse ou iguale a população do país B, mantidas as taxas de crescimento. \n",
    "\n",
    "paisA = 80000\n",
    "crescimentoA = 0.03\n",
    "paisB = 200000\n",
    "crescimentoB = 0.015\n",
    "\n",
    "anos = 0\n",
    "\n",
    "while paisA < paisB:\n",
    "    paisA = paisA + (paisA * crescimentoA)\n",
    "    paisB = paisB + (paisB * crescimentoB)\n",
    "    anos += 1\n",
    "\n",
    "print(f\"Serão necessários {anos} anos para que a população do país A últrapasse ou iguale a população do país B.\")"
   ]
  },
  {
   "cell_type": "code",
   "execution_count": 13,
   "id": "869cd229-4de8-42d8-b5f8-6ffc589c3e81",
   "metadata": {
    "scrolled": true
   },
   "outputs": [
    {
     "name": "stdin",
     "output_type": "stream",
     "text": [
      "Digite o 1º número:  10\n",
      "Digite o 2º número:  20\n",
      "Digite o 3º número:  30\n",
      "Digite o 4º número:  40\n",
      "Digite o 5º número:  50\n"
     ]
    },
    {
     "name": "stdout",
     "output_type": "stream",
     "text": [
      "A soma dos números é 150\n",
      "A média dos números é 30.0\n"
     ]
    }
   ],
   "source": [
    "# 5. Faça um programa que leia 5 números e informe a soma e a média dos números. \n",
    "\n",
    "soma = 0\n",
    "\n",
    "for i in range(5):\n",
    "    num = int(input(f\"Digite o {i+1}º número: \"))\n",
    "    soma += num\n",
    "\n",
    "media = soma / 5\n",
    "\n",
    "print(f\"A soma dos números é {soma}\")\n",
    "print(f\"A média dos números é {media}\")"
   ]
  },
  {
   "cell_type": "code",
   "execution_count": 17,
   "id": "f7281dff-26d5-4cdc-b575-0e553146c96a",
   "metadata": {},
   "outputs": [
    {
     "name": "stdin",
     "output_type": "stream",
     "text": [
      "Digite um número para ver a tabuada (1 a 10):  2\n"
     ]
    },
    {
     "name": "stdout",
     "output_type": "stream",
     "text": [
      "Tabuada de 2:\n",
      "2 x 1 = 2\n",
      "2 x 2 = 4\n",
      "2 x 3 = 6\n",
      "2 x 4 = 8\n",
      "2 x 5 = 10\n",
      "2 x 6 = 12\n",
      "2 x 7 = 14\n",
      "2 x 8 = 16\n",
      "2 x 9 = 18\n",
      "2 x 10 = 20\n"
     ]
    }
   ],
   "source": [
    "# 6. Desenvolva um gerador de tabuada, capaz de gerar a tabuada de qualquer número inteiro entre 1 a 10. O usuário deve informar de qual numero ele deseja ver a tabuada. A saída deve ser conforme o exemplo abaixo: \n",
    "# a. Tabuada de 5: \n",
    "# b. 5 X 1 = 5 \n",
    "# c. 5 X 2 = 10 \n",
    "# d. ... \n",
    "# e. 5 X 10 = 50 \n",
    "\n",
    "# Gerador de Tabuada:\n",
    "num = int(input(\"Digite um número para ver a tabuada (1 a 10): \"))\n",
    "\n",
    "if 1 <= num <= 10:\n",
    "    print(f\"Tabuada de {num}:\")\n",
    "    for i in range(1, 11):\n",
    "        print(f\"{num} x {i} = {num * i}\")\n",
    "    \n",
    "else:\n",
    "    print(\"Número inválido! Por favor, digite um número entre 1 e 10.\")"
   ]
  },
  {
   "cell_type": "code",
   "execution_count": 3,
   "id": "b1b0330a-6ba2-4a47-a2c5-8ef2cbddd6a5",
   "metadata": {},
   "outputs": [
    {
     "name": "stdin",
     "output_type": "stream",
     "text": [
      "Digite quantos termos da Série de Fibonacci deseja:  10\n"
     ]
    },
    {
     "name": "stdout",
     "output_type": "stream",
     "text": [
      "1 1 2 3 5 8 13 21 34 55 "
     ]
    }
   ],
   "source": [
    "# 7. A série de Fibonacci é formada pela seqüência 1,1,2,3,5,8,13,21,34,55,... Faça um programa capaz de gerar a série até o n−ésimo termo.\n",
    "\n",
    "n = int(input(\"Digite quantos termos da Série de Fibonacci deseja: \"))\n",
    "a, b = 1, 1\n",
    "contador = 0\n",
    "\n",
    "while contador < n:\n",
    "    print(a, end=\" \")\n",
    "    a, b = b, a + b\n",
    "    contador += 1"
   ]
  },
  {
   "cell_type": "code",
   "execution_count": 15,
   "id": "f433e187-d580-4fb1-8f69-9eba67ac88fc",
   "metadata": {},
   "outputs": [
    {
     "name": "stdin",
     "output_type": "stream",
     "text": [
      "Digite as notas que deseja calcular:  3\n",
      "Digite o 1º nota:  5.3\n",
      "Digite o 2º nota:  7\n",
      "Digite o 3º nota:  8\n"
     ]
    },
    {
     "name": "stdout",
     "output_type": "stream",
     "text": [
      "A soma das notas é 20.3\n",
      "A média dss notas é 6.766666666666667\n"
     ]
    }
   ],
   "source": [
    "# 8. Faça um programa que calcule o mostre a média aritmética de N notas. \n",
    "\n",
    "notas = int(input(\"Digite as notas que deseja calcular: \"))\n",
    "soma = 0\n",
    "\n",
    "for i in range(notas):\n",
    "    nota = float(input(f\"Digite o {i+1}º nota: \"))\n",
    "    soma += nota\n",
    "\n",
    "media = soma / notas\n",
    "\n",
    "print(f\"A soma das notas é {soma}\")\n",
    "print(f\"A média dss notas é {media}\")"
   ]
  },
  {
   "cell_type": "code",
   "execution_count": 19,
   "id": "725d5f07-cf8d-474e-bac7-8b04ebf64a10",
   "metadata": {},
   "outputs": [
    {
     "name": "stdout",
     "output_type": "stream",
     "text": [
      "Lojas Quase Dois - Tabela de Preços\n",
      "\n",
      " 1 - R$ 1.99\n",
      " 2 - R$ 3.98\n",
      " 3 - R$ 5.97\n",
      " 4 - R$ 7.96\n",
      " 5 - R$ 9.95\n",
      " 6 - R$ 11.94\n",
      " 7 - R$ 13.93\n",
      " 8 - R$ 15.92\n",
      " 9 - R$ 17.91\n",
      "10 - R$ 19.90\n",
      "11 - R$ 21.89\n",
      "12 - R$ 23.88\n",
      "13 - R$ 25.87\n",
      "14 - R$ 27.86\n",
      "15 - R$ 29.85\n",
      "16 - R$ 31.84\n",
      "17 - R$ 33.83\n",
      "18 - R$ 35.82\n",
      "19 - R$ 37.81\n",
      "20 - R$ 39.80\n",
      "21 - R$ 41.79\n",
      "22 - R$ 43.78\n",
      "23 - R$ 45.77\n",
      "24 - R$ 47.76\n",
      "25 - R$ 49.75\n",
      "26 - R$ 51.74\n",
      "27 - R$ 53.73\n",
      "28 - R$ 55.72\n",
      "29 - R$ 57.71\n",
      "30 - R$ 59.70\n",
      "31 - R$ 61.69\n",
      "32 - R$ 63.68\n",
      "33 - R$ 65.67\n",
      "34 - R$ 67.66\n",
      "35 - R$ 69.65\n",
      "36 - R$ 71.64\n",
      "37 - R$ 73.63\n",
      "38 - R$ 75.62\n",
      "39 - R$ 77.61\n",
      "40 - R$ 79.60\n",
      "41 - R$ 81.59\n",
      "42 - R$ 83.58\n",
      "43 - R$ 85.57\n",
      "44 - R$ 87.56\n",
      "45 - R$ 89.55\n",
      "46 - R$ 91.54\n",
      "47 - R$ 93.53\n",
      "48 - R$ 95.52\n",
      "49 - R$ 97.51\n",
      "50 - R$ 99.50\n"
     ]
    }
   ],
   "source": [
    "# 9. O Sr. Manoel Joaquim possui uma grande loja de artigos de R$ 1,99, com cerca de 10 caixas. \n",
    "# Para agilizar o cálculo de quanto cada cliente deve pagar ele desenvolveu um tabela que contém o número de itens que o cliente comprou e ao lado o valor da conta. \n",
    "# Desta forma a atendente do caixa precisa apenas contar quantos itens o cliente está levando e olhar na tabela de preços. \n",
    "# Você foi contratado para desenvolver o programa que monta esta tabela de preços, que conterá os preços de 1 até 50 produtos, conforme o exemplo abaixo: \n",
    "\n",
    "# a. Lojas Quase Dois - Tabela de preços \n",
    "# b. 1 - R$ 1.99 \n",
    "# c. 2 - R$ 3.98 \n",
    "# d. ... \n",
    "# e. 50 - R$ 99.50 \n",
    "\n",
    "preco_unitario = 1.99\n",
    "print(\"Lojas Quase Dois - Tabela de Preços\\n\")\n",
    "\n",
    "for quantidade in range (1, 51):\n",
    "    total = quantidade * preco_unitario\n",
    "    print(f\"{quantidade:2} - R$ {total:.2f}\")"
   ]
  },
  {
   "cell_type": "code",
   "execution_count": 26,
   "id": "3464cf7f-d81b-4b35-999f-3a6ef7c1ebfb",
   "metadata": {},
   "outputs": [
    {
     "name": "stdin",
     "output_type": "stream",
     "text": [
      "Digite as temperaturas que deseja calcular:  3\n",
      "Digite a 1ª temperatura:  30\n",
      "Digite a 2ª temperatura:  25\n",
      "Digite a 3ª temperatura:  15\n"
     ]
    },
    {
     "name": "stdout",
     "output_type": "stream",
     "text": [
      "A soma das temperaturas é 70.0\n",
      "A média das temperaturas é 4.67\n",
      "A maior temperatura é: 30.0\n",
      "A menor temperatura é: 15.0\n"
     ]
    }
   ],
   "source": [
    "# 10. O Departamento Estadual de Meteorologia lhe contratou para desenvolver um programa que leia as um conjunto indeterminado de temperaturas, e informe ao final a menor e a maior temperaturas informadas, bem como a média das temperaturas.\n",
    "\n",
    "temperaturas = int(input(\"Digite as temperaturas que deseja calcular: \"))\n",
    "soma = 0\n",
    "lista_temperaturas = []\n",
    "\n",
    "for i in range(temperaturas):\n",
    "    temperatura = float(input(f\"Digite a {i+1}ª temperatura: \"))\n",
    "    soma += temperatura\n",
    "    lista_temperaturas.append(temperatura)\n",
    "\n",
    "media = soma / temperatura\n",
    "\n",
    "print(f\"A soma das temperaturas é {soma}\")\n",
    "print(f\"A média das temperaturas é {media:.2f}\")\n",
    "print(f\"A maior temperatura é: {max(lista_temperaturas)}\")\n",
    "print(f\"A menor temperatura é: {min(lista_temperaturas)}\")"
   ]
  },
  {
   "cell_type": "code",
   "execution_count": null,
   "id": "a6184c58-da4b-43f6-8706-6b97c11376e3",
   "metadata": {},
   "outputs": [],
   "source": []
  }
 ],
 "metadata": {
  "kernelspec": {
   "display_name": "Python [conda env:base] *",
   "language": "python",
   "name": "conda-base-py"
  },
  "language_info": {
   "codemirror_mode": {
    "name": "ipython",
    "version": 3
   },
   "file_extension": ".py",
   "mimetype": "text/x-python",
   "name": "python",
   "nbconvert_exporter": "python",
   "pygments_lexer": "ipython3",
   "version": "3.12.7"
  }
 },
 "nbformat": 4,
 "nbformat_minor": 5
}
