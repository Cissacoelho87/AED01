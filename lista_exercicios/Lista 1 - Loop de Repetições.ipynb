{
 "cells": [
  {
   "cell_type": "code",
   "execution_count": 16,
   "id": "8053f846-36b0-4d95-85b4-561b24676e15",
   "metadata": {},
   "outputs": [
    {
     "name": "stdin",
     "output_type": "stream",
     "text": [
      "Digite uma nota (0 a 10):  15\n"
     ]
    },
    {
     "name": "stdout",
     "output_type": "stream",
     "text": [
      "Nota inválida! Por favor, digite uma nota de 0 a 10.\n"
     ]
    },
    {
     "name": "stdin",
     "output_type": "stream",
     "text": [
      "Digite uma nota (0 a 10):  20\n"
     ]
    },
    {
     "name": "stdout",
     "output_type": "stream",
     "text": [
      "Nota inválida! Por favor, digite uma nota de 0 a 10.\n"
     ]
    },
    {
     "name": "stdin",
     "output_type": "stream",
     "text": [
      "Digite uma nota (0 a 10):  10\n"
     ]
    },
    {
     "name": "stdout",
     "output_type": "stream",
     "text": [
      "Nota Válida!\n"
     ]
    }
   ],
   "source": [
    "# 1. Faça um programa que peça uma nota, entre zero e dez. Mostre uma mensagem caso o valor seja inválido e continue pedindo até que o usuário informe um valor válido.\n",
    "\n",
    "nota = int(input(\"Digite uma nota (0 a 10): \"))\n",
    "while nota < 0 or nota > 10:\n",
    "  print(\"Nota inválida! Por favor, digite uma nota de 0 a 10.\")\n",
    "  nota = int(input(\"Digite uma nota (0 a 10): \"))\n",
    "  \n",
    "print(\"Nota Válida!\")"
   ]
  },
  {
   "cell_type": "code",
   "execution_count": 21,
   "id": "36ba7cea-0b18-4d32-b6a8-6bae9bcd2668",
   "metadata": {},
   "outputs": [
    {
     "name": "stdin",
     "output_type": "stream",
     "text": [
      "Digite o seu nome:  Cicera\n",
      "Digite sua senha:  Cicera\n"
     ]
    },
    {
     "name": "stdout",
     "output_type": "stream",
     "text": [
      "Senha inválida! Por favor, digite uma senha nova.\n"
     ]
    },
    {
     "name": "stdin",
     "output_type": "stream",
     "text": [
      "Digite sua senha:  Maria\n"
     ]
    },
    {
     "name": "stdout",
     "output_type": "stream",
     "text": [
      "Acesso liberado!\n"
     ]
    }
   ],
   "source": [
    "# 2. Faça um programa que leia um nome de usuário e a sua senha e não aceite a senha igual ao nome do usuário, mostrando uma mensagem de erro e voltando a pedir as informações. \n",
    "\n",
    "nome = input(\"Digite o seu nome: \")\n",
    "senha = input(\"Digite sua senha: \")\n",
    "while senha == nome:\n",
    "    print(\"Senha inválida! Por favor, digite uma senha nova.\")\n",
    "    senha = input(\"Digite sua senha: \")\n",
    "\n",
    "print(\"Acesso liberado!\")"
   ]
  },
  {
   "cell_type": "code",
   "execution_count": 23,
   "id": "b5a175d3-fa7f-4abf-a563-a85541b71064",
   "metadata": {},
   "outputs": [
    {
     "name": "stdin",
     "output_type": "stream",
     "text": [
      "Digite o seu nome:  Ci\n"
     ]
    },
    {
     "name": "stdout",
     "output_type": "stream",
     "text": [
      "Nome inválido! Por favor, digite um nome válido.\n"
     ]
    },
    {
     "name": "stdin",
     "output_type": "stream",
     "text": [
      "Digite o seu nome:  Cicera\n"
     ]
    },
    {
     "name": "stdout",
     "output_type": "stream",
     "text": [
      "Nome válido!\n"
     ]
    }
   ],
   "source": [
    "# 3. Faça um programa que leia e valide as seguintes informações: \n",
    "# a. Nome: maior que 3 caracteres; \n",
    "# b. Idade: entre 0 e 150; \n",
    "# c. Salário: maior que zero; \n",
    "# d. Sexo: 'f' ou 'm'; \n",
    "# e. Estado Civil: 's', 'c', 'v', 'd'\n",
    "\n",
    "\n",
    "nome = input(\"Digite o seu nome: \")\n",
    "while len(nome) <= 3:\n",
    "    print(\"Nome inválido! Por favor, digite um nome válido.\")\n",
    "    nome = input(\"Digite o seu nome: \")\n",
    "\n",
    "print(\"Nome válido!\")"
   ]
  },
  {
   "cell_type": "code",
   "execution_count": 25,
   "id": "76abec53-0f02-4c5b-b12c-10f30d76285c",
   "metadata": {},
   "outputs": [
    {
     "name": "stdout",
     "output_type": "stream",
     "text": [
      "Serão necessários 63 anos para que a população do país A últrapasse ou iguale a população do país B.\n"
     ]
    }
   ],
   "source": [
    "# 4. Supondo que a população de um país A seja da ordem de 80000 habitantes com uma taxa anual de crescimento de 3% e que a população de B seja 200000 habitantes com uma taxa de crescimento de 1.5%. \n",
    "# Faça um programa que calcule e escreva o número de anos necessários para que a população do país A ultrapasse ou iguale a população do país B, mantidas as taxas de crescimento. \n",
    "\n",
    "paisA = 80000\n",
    "crescimentoA = 0.03\n",
    "paisB = 200000\n",
    "crescimentoB = 0.015\n",
    "\n",
    "anos = 0\n",
    "\n",
    "while paisA < paisB:\n",
    "    paisA = paisA + (paisA * crescimentoA)\n",
    "    paisB = paisB + (paisB * crescimentoB)\n",
    "    anos += 1\n",
    "\n",
    "print(f\"Serão necessários {anos} anos para que a população do país A últrapasse ou iguale a população do país B.\")"
   ]
  },
  {
   "cell_type": "code",
   "execution_count": 13,
   "id": "869cd229-4de8-42d8-b5f8-6ffc589c3e81",
   "metadata": {
    "scrolled": true
   },
   "outputs": [
    {
     "name": "stdin",
     "output_type": "stream",
     "text": [
      "Digite o 1º número:  10\n",
      "Digite o 2º número:  20\n",
      "Digite o 3º número:  30\n",
      "Digite o 4º número:  40\n",
      "Digite o 5º número:  50\n"
     ]
    },
    {
     "name": "stdout",
     "output_type": "stream",
     "text": [
      "A soma dos números é 150\n",
      "A média dos números é 30.0\n"
     ]
    }
   ],
   "source": [
    "# 5. Faça um programa que leia 5 números e informe a soma e a média dos números. \n",
    "\n",
    "soma = 0\n",
    "\n",
    "for i in range(5):\n",
    "    num = int(input(f\"Digite o {i+1}º número: \"))\n",
    "    soma += num\n",
    "\n",
    "media = soma / 5\n",
    "\n",
    "print(f\"A soma dos números é {soma}\")\n",
    "print(f\"A média dos números é {media}\")"
   ]
  },
  {
   "cell_type": "code",
   "execution_count": 17,
   "id": "f7281dff-26d5-4cdc-b575-0e553146c96a",
   "metadata": {},
   "outputs": [
    {
     "name": "stdin",
     "output_type": "stream",
     "text": [
      "Digite um número para ver a tabuada (1 a 10):  2\n"
     ]
    },
    {
     "name": "stdout",
     "output_type": "stream",
     "text": [
      "Tabuada de 2:\n",
      "2 x 1 = 2\n",
      "2 x 2 = 4\n",
      "2 x 3 = 6\n",
      "2 x 4 = 8\n",
      "2 x 5 = 10\n",
      "2 x 6 = 12\n",
      "2 x 7 = 14\n",
      "2 x 8 = 16\n",
      "2 x 9 = 18\n",
      "2 x 10 = 20\n"
     ]
    }
   ],
   "source": [
    "# 6. Desenvolva um gerador de tabuada, capaz de gerar a tabuada de qualquer número inteiro entre 1 a 10. O usuário deve informar de qual numero ele deseja ver a tabuada. A saída deve ser conforme o exemplo abaixo: \n",
    "# a. Tabuada de 5: \n",
    "# b. 5 X 1 = 5 \n",
    "# c. 5 X 2 = 10 \n",
    "# d. ... \n",
    "# e. 5 X 10 = 50 \n",
    "\n",
    "# Gerador de Tabuada:\n",
    "num = int(input(\"Digite um número para ver a tabuada (1 a 10): \"))\n",
    "\n",
    "if 1 <= num <= 10:\n",
    "    print(f\"Tabuada de {num}:\")\n",
    "    for i in range(1, 11):\n",
    "        print(f\"{num} x {i} = {num * i}\")\n",
    "    \n",
    "else:\n",
    "    print(\"Número inválido! Por favor, digite um número entre 1 e 10.\")"
   ]
  },
  {
   "cell_type": "code",
   "execution_count": null,
   "id": "b1b0330a-6ba2-4a47-a2c5-8ef2cbddd6a5",
   "metadata": {},
   "outputs": [],
   "source": [
    "# 7. A série de Fibonacci é formada pela seqüência 1,1,2,3,5,8,13,21,34,55,... Faça um programa capaz de gerar a série até o n−ésimo termo. \n"
   ]
  },
  {
   "cell_type": "code",
   "execution_count": null,
   "id": "f433e187-d580-4fb1-8f69-9eba67ac88fc",
   "metadata": {},
   "outputs": [],
   "source": []
  }
 ],
 "metadata": {
  "kernelspec": {
   "display_name": "Python [conda env:base] *",
   "language": "python",
   "name": "conda-base-py"
  },
  "language_info": {
   "codemirror_mode": {
    "name": "ipython",
    "version": 3
   },
   "file_extension": ".py",
   "mimetype": "text/x-python",
   "name": "python",
   "nbconvert_exporter": "python",
   "pygments_lexer": "ipython3",
   "version": "3.12.7"
  }
 },
 "nbformat": 4,
 "nbformat_minor": 5
}
